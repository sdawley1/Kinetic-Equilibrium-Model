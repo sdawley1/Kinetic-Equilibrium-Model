{
 "cells": [
  {
   "cell_type": "markdown",
   "id": "703c6d16",
   "metadata": {},
   "source": [
    "# AS.030.421 HW 4\n",
    "## Sam Dawley\n",
    "## Due: 9/29/2021"
   ]
  },
  {
   "cell_type": "markdown",
   "id": "ad94c3a8",
   "metadata": {},
   "source": [
    "### 1. \n",
    "First I copied the `print_rxn(*)` function we made in class to check to make sure I was inputting the stoichiometry correctly. In fact, after I had finished writing all of the code, `kset2` had [NH3] shooting off to infinity and for the life of me I couldn't figure out what had gone wrong. Printing my reaction scheme, however, revealed that I had *placed a -1 in place of a 1 for one of the reactions*... I guess that's just to say this function saved me a lot of time."
   ]
  },
  {
   "cell_type": "code",
   "execution_count": 1,
   "id": "8f348e29",
   "metadata": {},
   "outputs": [],
   "source": [
    "def print_rxn(rxn):\n",
    "    '''\n",
    "    Parameters\n",
    "    ----------\n",
    "    rxn = dictionary w/ 'rate constant':'value', 'stoich':'stoichiometry of rxn as dictionary'\n",
    "    'rxns' above is an example of what might be passed into this function\n",
    "    'initial_concentrations.keys()' is an example of what might be passed for species\n",
    "    \n",
    "    Returns\n",
    "    -------\n",
    "    string delineating the reaction with rate constant appended at the end\n",
    "    '''\n",
    "    reactants = ''\n",
    "    products = ''\n",
    "    for species in rxn['stoich']:\n",
    "        # Test if the species is a reactant or product\n",
    "        # If the coefficient is < 0, reactant!\n",
    "        # Otherwise, product!\n",
    "        if rxn['stoich'][species] < 0:\n",
    "            if reactants != '':\n",
    "                reactants += ' + '\n",
    "            reactants += str(-1*rxn['stoich'][species])+str(species)\n",
    "        else:\n",
    "            if products != '':\n",
    "                products += ' + '\n",
    "            products += str(rxn['stoich'][species])+str(species)\n",
    "    print(reactants + ' --> ' + products + '   k=' + str(rxn['k']))\n",
    "    return"
   ]
  },
  {
   "cell_type": "markdown",
   "id": "1b1a4c5a",
   "metadata": {},
   "source": [
    "Here I establish the dictionaries of rate constants, `kset1` and `kset2`, as well as create dictionaries for each reaction in the process, appending the entire reaction scheme to `rxns1` and `rxns2` for `kset1` and `kset2`, respectively."
   ]
  },
  {
   "cell_type": "code",
   "execution_count": 15,
   "id": "3e5fab80",
   "metadata": {},
   "outputs": [],
   "source": [
    "import numpy as np\n",
    "\n",
    "# Set #1 of rate constants for 10 elementary steps in Haber-Bosch process\n",
    "kset1 = {'k1': 0.8278637422106816, 'k2': 0.39149000993824246, 'k3': 0.8809489691930754, 'k4':\n",
    "0.8904941743044822, 'k5': 0.49235654862180933, 'k6': 0.3626731669508352, 'k7':\n",
    "0.8229633538635941, 'k8': 0.6814997598570338, 'k9': 0.28078485107706896, 'k10':\n",
    "0.4161572873345082}\n",
    "\n",
    "# Set #2 of rate constants for 10 elementary steps in Haber-Bosch process\n",
    "kset2 = {'k1': 0.053584533069235385, 'k2': 0.24462483811905555, 'k3': 0.5087814132035998, 'k4':\n",
    "0.7936118243328263, 'k5': 0.1710041980453506, 'k6': 0.5035332766731492, 'k7':\n",
    "0.9718026988463234, 'k8': 0.5004715497456229, 'k9': 0.8962148411969465, 'k10':\n",
    "0.03534836528601604}\n",
    "\n",
    "# Which set of rate constants to use\n",
    "kset = kset1\n",
    "\n",
    "# Dictionaries representing each elementary reaction in the process\n",
    "rxn1 = {'k': kset['k1'], 'stoich':{'N2': -1, 'N': 2}}\n",
    "rxn2 = {'k': kset['k2'], 'stoich':{'N': -2, 'N2': 1}}\n",
    "rxn3 = {'k': kset['k3'], 'stoich':{'H2': -1, 'H': 2}}\n",
    "rxn4 = {'k': kset['k4'], 'stoich':{'H': -2, 'H2': 1}}\n",
    "rxn5 = {'k': kset['k5'], 'stoich':{'N': -1, 'H': -1, 'NH': 1}}\n",
    "rxn6 = {'k': kset['k6'], 'stoich':{'NH': -1, 'N': 1, 'H': 1}}\n",
    "rxn7 = {'k': kset['k7'], 'stoich':{'NH': -1, 'H': -1, 'NH2': 1}}\n",
    "rxn8 = {'k': kset['k8'], 'stoich':{'NH2': -1, 'NH': 1, 'H': 1}}\n",
    "rxn9 = {'k': kset['k9'], 'stoich':{'NH2': -1, 'H': -1, 'NH3': 1}}\n",
    "rxn10 = {'k': kset['k10'], 'stoich':{'NH3': -1, 'NH2': 1, 'H': 1}}\n",
    "\n",
    "# List of reactions for kset1\n",
    "rxns1 = [rxn1, rxn2, rxn3, rxn4, rxn5, rxn6, rxn7, rxn8, rxn9, rxn10]\n",
    "\n",
    "# Which set of rate constants to use\n",
    "kset = kset2\n",
    "\n",
    "# Dictionaries representing each elementary reaction in the process\n",
    "rxn1b = {'k': kset['k1'], 'stoich':{'N2': -1, 'N': 2}}\n",
    "rxn2b = {'k': kset['k2'], 'stoich':{'N': -2, 'N2': 1}}\n",
    "rxn3b = {'k': kset['k3'], 'stoich':{'H2': -1, 'H': 2}}\n",
    "rxn4b = {'k': kset['k4'], 'stoich':{'H': -2, 'H2': 1}}\n",
    "rxn5b = {'k': kset['k5'], 'stoich':{'N': -1, 'H': -1, 'NH': 1}}\n",
    "rxn6b = {'k': kset['k6'], 'stoich':{'NH': -1, 'N': 1, 'H': 1}}\n",
    "rxn7b = {'k': kset['k7'], 'stoich':{'NH': -1, 'H': -1, 'NH2': 1}}\n",
    "rxn8b = {'k': kset['k8'], 'stoich':{'NH2': -1, 'NH': 1, 'H': 1}}\n",
    "rxn9b = {'k': kset['k9'], 'stoich':{'NH2': -1, 'H': -1, 'NH3': 1}}\n",
    "rxn10b = {'k': kset['k10'], 'stoich':{'NH3': -1, 'NH2': 1, 'H': 1}}\n",
    "\n",
    "# List of reactions for kset2\n",
    "rxns2 = [rxn1b, rxn2b, rxn3b, rxn4b, rxn5b, rxn6b, rxn7b, rxn8b, rxn9b, rxn10b]\n",
    "\n",
    "# Establishing all species and their initial concentrations\n",
    "baseline_information = {'N2': 1.0, 'H2': 3.0, 'N': 0.0, 'H': 0.0, 'NH': 0.0, 'NH2': 0.0, 'NH3': 0.0}"
   ]
  },
  {
   "cell_type": "markdown",
   "id": "622ed972",
   "metadata": {},
   "source": [
    "`kinetic_model_Y` is the function I used to compute the differential changes in concentration for each species. Similar to how we modeled the Iodine clock reaction in class, it utilizes dictionaries as a means of accessing information. Amazingly, it operates pretty quickly, considering there is a `for` loop nested inside of a `for` loop nested inside of a `for` loop."
   ]
  },
  {
   "cell_type": "code",
   "execution_count": 40,
   "id": "20bf2898",
   "metadata": {
    "scrolled": true
   },
   "outputs": [],
   "source": [
    "def kinetic_model_Y(t0, initial_concentrations, species, reactions):\n",
    "    '''\n",
    "    Parameters\n",
    "    ----------\n",
    "    t0 = float = Time at which to evaluate the system of ODEs\n",
    "    initial_concentrations = list = List of initial concentrations of all chemicals\n",
    "    species = list = List of all chemical species involved in the reaction \n",
    "    reactions = dict = dictionary containing rate constant and stoichiometric information\n",
    "    \n",
    "    Returns\n",
    "    -------\n",
    "    Derivatives of each concentration for each species\n",
    "    '''\n",
    "    # rv is the dictionary where we'll store all of the concentrations at a certian time t0\n",
    "    rv = {}\n",
    "    \n",
    "    for s in species:\n",
    "        rv[s] = 0.0 # Start with differential change in concentration = 0\n",
    "        \n",
    "        for rxn in reactions:  # Iterate through each reaction in the system\n",
    "            \n",
    "            if s in rxn['stoich']: # First test if the species is a part of that reaction\n",
    "                # If present, partial = (rate constant)*(coefficient of species)\n",
    "                partial = rxn['k']*rxn['stoich'][s] \n",
    "                \n",
    "                for s2 in rxn['stoich']: # Now find all other species in this particular reaction\n",
    "                    \n",
    "                    if rxn['stoich'][s2] < 0: # If the coefficient of the species is < 0, it's a reactant\n",
    "                        # Add contribution of reactant to the derivative\n",
    "                        partial *= initial_concentrations[species.index(s2)]**(-rxn['stoich'][s2]) \n",
    "                        \n",
    "                # At this point we have the partial derivative for one species with one reaction.\n",
    "                # So, we have to add it to the total\n",
    "                rv[s] += partial  \n",
    "    return tuple(rv.values())"
   ]
  },
  {
   "cell_type": "markdown",
   "id": "cbcb475c",
   "metadata": {},
   "source": [
    "Finally we can actually go about solving this initial value problem. `scipy.integrate.solve_ivp` was used. Before plugging into this function I had to make lists out of the given data, however, because it yelled at me when I tried to use dictionary methods."
   ]
  },
  {
   "cell_type": "code",
   "execution_count": 34,
   "id": "d51c1c42",
   "metadata": {},
   "outputs": [],
   "source": [
    "from scipy.integrate import solve_ivp\n",
    "\n",
    "# Arbitrary time range\n",
    "time_range = (0, 50.0)\n",
    "\n",
    "# Creating list of species and initial concentrations from dictionary defined above\n",
    "species = list(baseline_information.keys())\n",
    "ivs = list(baseline_information.values())\n",
    "\n",
    "# Solving the IVP for both sets of rate constants\n",
    "solution1 = solve_ivp(lambda t,y: kinetic_model_Y(t, y, species, rxns1), time_range, ivs)\n",
    "solution2 = solve_ivp(lambda t,y: kinetic_model_Y(t, y, species, rxns2), time_range, ivs)"
   ]
  },
  {
   "cell_type": "markdown",
   "id": "0a6c46f4",
   "metadata": {},
   "source": [
    "Using `matplotlib` to plot the data:"
   ]
  },
  {
   "cell_type": "code",
   "execution_count": 35,
   "id": "e0f8d22f",
   "metadata": {},
   "outputs": [
    {
     "data": {
      "text/plain": [
       "<matplotlib.legend.Legend at 0x7ff5ef5989d0>"
      ]
     },
     "execution_count": 35,
     "metadata": {},
     "output_type": "execute_result"
    },
    {
     "data": {
      "image/png": "[encoded data removed]",
      "text/plain": [
       "<Figure size 432x288 with 2 Axes>"
      ]
     },
     "metadata": {
      "needs_background": "light"
     },
     "output_type": "display_data"
    }
   ],
   "source": [
    "%matplotlib inline\n",
    "import matplotlib.pyplot as plt\n",
    "\n",
    "fig1, ax = plt.subplots(2,1, sharex=True)\n",
    "\n",
    "# Plotting the solutions to the system of ODEs for both sets of rate constants\n",
    "for i in range(len(species)):\n",
    "    ax[0].plot(solution1.t, solution1.y[i], label=species[i])\n",
    "    ax[1].plot(solution2.t, solution2.y[i], label=species[i])\n",
    "    \n",
    "ax[0].set_title('kset1') \n",
    "ax[1].set_title('kset2') \n",
    "plt.legend(bbox_to_anchor=(1.04,1), loc=\"center left\", borderaxespad=0)"
   ]
  },
  {
   "cell_type": "markdown",
   "id": "0ca856d1",
   "metadata": {},
   "source": [
    "Above we see that the equilibrium concentration of NH3 is greater using the second set of rate constants than with the first set of rate constants. The code below gives a quantitative difference, after a time of 1000 time units. Obviously we could have run this longer, but does it really matter?"
   ]
  },
  {
   "cell_type": "code",
   "execution_count": 36,
   "id": "22a38638",
   "metadata": {},
   "outputs": [
    {
     "name": "stdout",
     "output_type": "stream",
     "text": [
      "\"Equilibrium\" concentration NH3 for kset1: 0.4110615538716267\n",
      "\"Equilibrium\" concentration NH3 for kset2: 1.2120384647616957\n"
     ]
    }
   ],
   "source": [
    "# Arbitrary time range\n",
    "time_range = (0, 1000.0)\n",
    "\n",
    "# Solving the IVP for both sets of rate constants\n",
    "solution1 = solve_ivp(lambda t,y: kinetic_model_Y(t, y, species, rxns1), time_range, ivs)\n",
    "solution2 = solve_ivp(lambda t,y: kinetic_model_Y(t, y, species, rxns2), time_range, ivs)\n",
    "\n",
    "print('\"Equilibrium\" concentration NH3 for kset1: {}'.format(solution1.y[-1][-1]))\n",
    "print('\"Equilibrium\" concentration NH3 for kset2: {}'.format(solution2.y[-1][-1]))"
   ]
  },
  {
   "cell_type": "markdown",
   "id": "f8d319d8",
   "metadata": {},
   "source": [
    "Now we'll determine which set of rate constants affords a faster time to reach a concentration of 0.20 (problem units) of NH3"
   ]
  },
  {
   "cell_type": "code",
   "execution_count": 39,
   "id": "b51b4cec",
   "metadata": {},
   "outputs": [
    {
     "name": "stdout",
     "output_type": "stream",
     "text": [
      "kset1: [NH3] = 0.2090 at t = 4.4584\n",
      "kset2: [NH3] = 0.2177 at t = 10.2004\n"
     ]
    }
   ],
   "source": [
    "for ii,conc in enumerate(solution1.y[-1]):\n",
    "    if conc >= 0.20:\n",
    "        print('kset1: [NH3] = {0:0.4f} at t = {1:0.4f}'.format(conc, solution1.t[ii]))\n",
    "        break\n",
    "for ii,conc in enumerate(solution2.y[-1]):\n",
    "    if conc >= 0.20:\n",
    "        print('kset2: [NH3] = {0:0.4f} at t = {1:0.4f}'.format(conc, solution2.t[ii]))\n",
    "        break"
   ]
  },
  {
   "cell_type": "markdown",
   "id": "13e74cd8",
   "metadata": {},
   "source": [
    "Clearly, we see that although the first set of rate constants affords a lower concentration of NH3 at equilibrium, it reaches a concentration of NH3 of 0.20 far faster."
   ]
  },
  {
   "cell_type": "markdown",
   "id": "4f448239",
   "metadata": {},
   "source": [
    "Below is a snippet of code illustrating the times when the concentration of NH3 passes the 0.20 threshold. The concentration of NH3 is in blue and all other species' concentrations are in gray. The red line is the line $y=0.2$. THe results agree with our estimate above, to a degree. The difference in the time for `kset2` comes the fact that the `solve_ivp` function is not perfectly continuous. Instead, it is taking discrete steps at estimating the curve. This is why the time above does not perfectly match with the time that the concentration of NH3 reaches 0.2 on the curve below. For our purposes, however, it certainly accurate enough."
   ]
  },
  {
   "cell_type": "code",
   "execution_count": 38,
   "id": "1ff580db",
   "metadata": {},
   "outputs": [
    {
     "data": {
      "text/plain": [
       "(0.0, 1.0)"
      ]
     },
     "execution_count": 38,
     "metadata": {},
     "output_type": "execute_result"
    },
    {
     "data": {
      "image/png": "[encoded data removed]",
      "text/plain": [
       "<Figure size 432x288 with 2 Axes>"
      ]
     },
     "metadata": {
      "needs_background": "light"
     },
     "output_type": "display_data"
    }
   ],
   "source": [
    "time_range = (0, 15.0)\n",
    "\n",
    "solution1 = solve_ivp(lambda t,y: kinetic_model_Y(t, y, species, rxns1), time_range, ivs)\n",
    "solution2 = solve_ivp(lambda t,y: kinetic_model_Y(t, y, species, rxns2), time_range, ivs)\n",
    "\n",
    "fig2, ax = plt.subplots(2, 1, sharex=True, sharey=True)\n",
    "\n",
    "ax[0].plot(np.linspace(-1,16, 10000), [0.2 for i in range(10000)], 'r')\n",
    "ax[1].plot(np.linspace(-1,16, 10000), [0.2 for i in range(10000)], 'r')\n",
    "\n",
    "# Plotting the solutions to the system of ODEs for both sets of rate constants\n",
    "for i in range(len(species)):\n",
    "    if species[i] == 'NH3':\n",
    "         ax[0].plot(solution1.t, solution1.y[i], label=species[i], color='b')\n",
    "         ax[1].plot(solution2.t, solution2.y[i], label=species[i], color='b')\n",
    "    else:\n",
    "        ax[0].plot(solution1.t, solution1.y[i], label=species[i], color='gray')\n",
    "        ax[1].plot(solution2.t, solution2.y[i], label=species[i], color='gray')\n",
    "    \n",
    "ax[0].set_title('kset1') \n",
    "ax[1].set_title('kset2') \n",
    "ax[0].set_xlim([0,15])\n",
    "ax[0].set_ylim([0,1]) "
   ]
  }
 ],
 "metadata": {
  "kernelspec": {
   "display_name": "Python 3 (ipykernel)",
   "language": "python",
   "name": "python3"
  },
  "language_info": {
   "codemirror_mode": {
    "name": "ipython",
    "version": 3
   },
   "file_extension": ".py",
   "mimetype": "text/x-python",
   "name": "python",
   "nbconvert_exporter": "python",
   "pygments_lexer": "ipython3",
   "version": "3.8.10"
  }
 },
 "nbformat": 4,
 "nbformat_minor": 5
}
